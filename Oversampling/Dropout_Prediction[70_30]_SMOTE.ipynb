{
  "nbformat": 4,
  "nbformat_minor": 0,
  "metadata": {
    "colab": {
      "provenance": [],
      "toc_visible": true
    },
    "kernelspec": {
      "name": "python3",
      "display_name": "Python 3"
    },
    "language_info": {
      "name": "python"
    }
  },
  "cells": [
    {
      "cell_type": "markdown",
      "source": [
        "# Install necessary library"
      ],
      "metadata": {
        "id": "KgOfjnOxZQXQ"
      }
    },
    {
      "cell_type": "code",
      "source": [
        "!pip install -U imbalanced-learn deap catboost scikit-learn --quiet"
      ],
      "metadata": {
        "id": "7N4rQnmn3BvS"
      },
      "execution_count": 2,
      "outputs": []
    },
    {
      "cell_type": "markdown",
      "source": [
        "# Import Library"
      ],
      "metadata": {
        "id": "W97YW_Pfa7an"
      }
    },
    {
      "cell_type": "code",
      "source": [
        "import os\n",
        "import matplotlib.pyplot as plt\n",
        "import pandas as pd\n",
        "import numpy as np\n",
        "\n",
        "# Preprocessing\n",
        "from sklearn.preprocessing import MinMaxScaler\n",
        "from sklearn.model_selection import train_test_split\n",
        "from imblearn.over_sampling import SMOTE\n",
        "from imblearn.pipeline import Pipeline\n",
        "\n",
        "# Metrics\n",
        "from sklearn.metrics import accuracy_score, classification_report, confusion_matrix, precision_score, recall_score, f1_score\n",
        "\n",
        "# Algorithms\n",
        "from xgboost import XGBClassifier\n",
        "from deap import base, creator, tools, algorithms\n",
        "import random\n",
        "import lightgbm as lgb\n",
        "from lightgbm import early_stopping, log_evaluation\n",
        "from catboost import CatBoostClassifier\n",
        "from sklearn.ensemble import StackingClassifier\n",
        "from sklearn.linear_model import LogisticRegression\n",
        "from sklearn.model_selection import cross_val_score"
      ],
      "metadata": {
        "id": "JXY8WMVP3UeN"
      },
      "execution_count": 3,
      "outputs": []
    },
    {
      "cell_type": "markdown",
      "source": [
        "# Preprocessing"
      ],
      "metadata": {
        "id": "wsZT9ZbnUHR-"
      }
    },
    {
      "cell_type": "code",
      "source": [
        "df = pd.read_csv(\"Student Dropout data.csv\", sep=';')\n",
        "print(\"✅ File loaded successfully.\")\n",
        "df.isna().sum()\n",
        "df"
      ],
      "metadata": {
        "id": "Xrjr6Iu48qAe",
        "colab": {
          "base_uri": "https://localhost:8080/",
          "height": 514
        },
        "outputId": "c3cfadee-2051-4d86-eda3-ef23390d34eb"
      },
      "execution_count": 4,
      "outputs": [
        {
          "output_type": "stream",
          "name": "stdout",
          "text": [
            "✅ File loaded successfully.\n"
          ]
        },
        {
          "output_type": "execute_result",
          "data": {
            "text/plain": [
              "      Marital status  Application mode  Application order  Course  \\\n",
              "0                  1                17                  5     171   \n",
              "1                  1                15                  1    9254   \n",
              "2                  1                 1                  5    9070   \n",
              "3                  1                17                  2    9773   \n",
              "4                  2                39                  1    8014   \n",
              "...              ...               ...                ...     ...   \n",
              "4419               1                 1                  6    9773   \n",
              "4420               1                 1                  2    9773   \n",
              "4421               1                 1                  1    9500   \n",
              "4422               1                 1                  1    9147   \n",
              "4423               1                10                  1    9773   \n",
              "\n",
              "      Daytime/evening attendance\\t  Previous qualification  \\\n",
              "0                                1                       1   \n",
              "1                                1                       1   \n",
              "2                                1                       1   \n",
              "3                                1                       1   \n",
              "4                                0                       1   \n",
              "...                            ...                     ...   \n",
              "4419                             1                       1   \n",
              "4420                             1                       1   \n",
              "4421                             1                       1   \n",
              "4422                             1                       1   \n",
              "4423                             1                       1   \n",
              "\n",
              "      Previous qualification (grade)  Nacionality  Mother's qualification  \\\n",
              "0                              122.0            1                      19   \n",
              "1                              160.0            1                       1   \n",
              "2                              122.0            1                      37   \n",
              "3                              122.0            1                      38   \n",
              "4                              100.0            1                      37   \n",
              "...                              ...          ...                     ...   \n",
              "4419                           125.0            1                       1   \n",
              "4420                           120.0          105                       1   \n",
              "4421                           154.0            1                      37   \n",
              "4422                           180.0            1                      37   \n",
              "4423                           152.0           22                      38   \n",
              "\n",
              "      Father's qualification  ...  Curricular units 2nd sem (credited)  \\\n",
              "0                         12  ...                                    0   \n",
              "1                          3  ...                                    0   \n",
              "2                         37  ...                                    0   \n",
              "3                         37  ...                                    0   \n",
              "4                         38  ...                                    0   \n",
              "...                      ...  ...                                  ...   \n",
              "4419                       1  ...                                    0   \n",
              "4420                       1  ...                                    0   \n",
              "4421                      37  ...                                    0   \n",
              "4422                      37  ...                                    0   \n",
              "4423                      37  ...                                    0   \n",
              "\n",
              "      Curricular units 2nd sem (enrolled)  \\\n",
              "0                                       0   \n",
              "1                                       6   \n",
              "2                                       6   \n",
              "3                                       6   \n",
              "4                                       6   \n",
              "...                                   ...   \n",
              "4419                                    6   \n",
              "4420                                    6   \n",
              "4421                                    8   \n",
              "4422                                    5   \n",
              "4423                                    6   \n",
              "\n",
              "      Curricular units 2nd sem (evaluations)  \\\n",
              "0                                          0   \n",
              "1                                          6   \n",
              "2                                          0   \n",
              "3                                         10   \n",
              "4                                          6   \n",
              "...                                      ...   \n",
              "4419                                       8   \n",
              "4420                                       6   \n",
              "4421                                       9   \n",
              "4422                                       6   \n",
              "4423                                       6   \n",
              "\n",
              "      Curricular units 2nd sem (approved)  Curricular units 2nd sem (grade)  \\\n",
              "0                                       0                          0.000000   \n",
              "1                                       6                         13.666667   \n",
              "2                                       0                          0.000000   \n",
              "3                                       5                         12.400000   \n",
              "4                                       6                         13.000000   \n",
              "...                                   ...                               ...   \n",
              "4419                                    5                         12.666667   \n",
              "4420                                    2                         11.000000   \n",
              "4421                                    1                         13.500000   \n",
              "4422                                    5                         12.000000   \n",
              "4423                                    6                         13.000000   \n",
              "\n",
              "      Curricular units 2nd sem (without evaluations)  Unemployment rate  \\\n",
              "0                                                  0               10.8   \n",
              "1                                                  0               13.9   \n",
              "2                                                  0               10.8   \n",
              "3                                                  0                9.4   \n",
              "4                                                  0               13.9   \n",
              "...                                              ...                ...   \n",
              "4419                                               0               15.5   \n",
              "4420                                               0               11.1   \n",
              "4421                                               0               13.9   \n",
              "4422                                               0                9.4   \n",
              "4423                                               0               12.7   \n",
              "\n",
              "      Inflation rate   GDP    Target  \n",
              "0                1.4  1.74   Dropout  \n",
              "1               -0.3  0.79  Graduate  \n",
              "2                1.4  1.74   Dropout  \n",
              "3               -0.8 -3.12  Graduate  \n",
              "4               -0.3  0.79  Graduate  \n",
              "...              ...   ...       ...  \n",
              "4419             2.8 -4.06  Graduate  \n",
              "4420             0.6  2.02   Dropout  \n",
              "4421            -0.3  0.79   Dropout  \n",
              "4422            -0.8 -3.12  Graduate  \n",
              "4423             3.7 -1.70  Graduate  \n",
              "\n",
              "[4424 rows x 37 columns]"
            ],
            "text/html": [
              "\n",
              "  <div id=\"df-f01dd8c7-fb47-491a-aa0b-4ddee4074aba\" class=\"colab-df-container\">\n",
              "    <div>\n",
              "<style scoped>\n",
              "    .dataframe tbody tr th:only-of-type {\n",
              "        vertical-align: middle;\n",
              "    }\n",
              "\n",
              "    .dataframe tbody tr th {\n",
              "        vertical-align: top;\n",
              "    }\n",
              "\n",
              "    .dataframe thead th {\n",
              "        text-align: right;\n",
              "    }\n",
              "</style>\n",
              "<table border=\"1\" class=\"dataframe\">\n",
              "  <thead>\n",
              "    <tr style=\"text-align: right;\">\n",
              "      <th></th>\n",
              "      <th>Marital status</th>\n",
              "      <th>Application mode</th>\n",
              "      <th>Application order</th>\n",
              "      <th>Course</th>\n",
              "      <th>Daytime/evening attendance\\t</th>\n",
              "      <th>Previous qualification</th>\n",
              "      <th>Previous qualification (grade)</th>\n",
              "      <th>Nacionality</th>\n",
              "      <th>Mother's qualification</th>\n",
              "      <th>Father's qualification</th>\n",
              "      <th>...</th>\n",
              "      <th>Curricular units 2nd sem (credited)</th>\n",
              "      <th>Curricular units 2nd sem (enrolled)</th>\n",
              "      <th>Curricular units 2nd sem (evaluations)</th>\n",
              "      <th>Curricular units 2nd sem (approved)</th>\n",
              "      <th>Curricular units 2nd sem (grade)</th>\n",
              "      <th>Curricular units 2nd sem (without evaluations)</th>\n",
              "      <th>Unemployment rate</th>\n",
              "      <th>Inflation rate</th>\n",
              "      <th>GDP</th>\n",
              "      <th>Target</th>\n",
              "    </tr>\n",
              "  </thead>\n",
              "  <tbody>\n",
              "    <tr>\n",
              "      <th>0</th>\n",
              "      <td>1</td>\n",
              "      <td>17</td>\n",
              "      <td>5</td>\n",
              "      <td>171</td>\n",
              "      <td>1</td>\n",
              "      <td>1</td>\n",
              "      <td>122.0</td>\n",
              "      <td>1</td>\n",
              "      <td>19</td>\n",
              "      <td>12</td>\n",
              "      <td>...</td>\n",
              "      <td>0</td>\n",
              "      <td>0</td>\n",
              "      <td>0</td>\n",
              "      <td>0</td>\n",
              "      <td>0.000000</td>\n",
              "      <td>0</td>\n",
              "      <td>10.8</td>\n",
              "      <td>1.4</td>\n",
              "      <td>1.74</td>\n",
              "      <td>Dropout</td>\n",
              "    </tr>\n",
              "    <tr>\n",
              "      <th>1</th>\n",
              "      <td>1</td>\n",
              "      <td>15</td>\n",
              "      <td>1</td>\n",
              "      <td>9254</td>\n",
              "      <td>1</td>\n",
              "      <td>1</td>\n",
              "      <td>160.0</td>\n",
              "      <td>1</td>\n",
              "      <td>1</td>\n",
              "      <td>3</td>\n",
              "      <td>...</td>\n",
              "      <td>0</td>\n",
              "      <td>6</td>\n",
              "      <td>6</td>\n",
              "      <td>6</td>\n",
              "      <td>13.666667</td>\n",
              "      <td>0</td>\n",
              "      <td>13.9</td>\n",
              "      <td>-0.3</td>\n",
              "      <td>0.79</td>\n",
              "      <td>Graduate</td>\n",
              "    </tr>\n",
              "    <tr>\n",
              "      <th>2</th>\n",
              "      <td>1</td>\n",
              "      <td>1</td>\n",
              "      <td>5</td>\n",
              "      <td>9070</td>\n",
              "      <td>1</td>\n",
              "      <td>1</td>\n",
              "      <td>122.0</td>\n",
              "      <td>1</td>\n",
              "      <td>37</td>\n",
              "      <td>37</td>\n",
              "      <td>...</td>\n",
              "      <td>0</td>\n",
              "      <td>6</td>\n",
              "      <td>0</td>\n",
              "      <td>0</td>\n",
              "      <td>0.000000</td>\n",
              "      <td>0</td>\n",
              "      <td>10.8</td>\n",
              "      <td>1.4</td>\n",
              "      <td>1.74</td>\n",
              "      <td>Dropout</td>\n",
              "    </tr>\n",
              "    <tr>\n",
              "      <th>3</th>\n",
              "      <td>1</td>\n",
              "      <td>17</td>\n",
              "      <td>2</td>\n",
              "      <td>9773</td>\n",
              "      <td>1</td>\n",
              "      <td>1</td>\n",
              "      <td>122.0</td>\n",
              "      <td>1</td>\n",
              "      <td>38</td>\n",
              "      <td>37</td>\n",
              "      <td>...</td>\n",
              "      <td>0</td>\n",
              "      <td>6</td>\n",
              "      <td>10</td>\n",
              "      <td>5</td>\n",
              "      <td>12.400000</td>\n",
              "      <td>0</td>\n",
              "      <td>9.4</td>\n",
              "      <td>-0.8</td>\n",
              "      <td>-3.12</td>\n",
              "      <td>Graduate</td>\n",
              "    </tr>\n",
              "    <tr>\n",
              "      <th>4</th>\n",
              "      <td>2</td>\n",
              "      <td>39</td>\n",
              "      <td>1</td>\n",
              "      <td>8014</td>\n",
              "      <td>0</td>\n",
              "      <td>1</td>\n",
              "      <td>100.0</td>\n",
              "      <td>1</td>\n",
              "      <td>37</td>\n",
              "      <td>38</td>\n",
              "      <td>...</td>\n",
              "      <td>0</td>\n",
              "      <td>6</td>\n",
              "      <td>6</td>\n",
              "      <td>6</td>\n",
              "      <td>13.000000</td>\n",
              "      <td>0</td>\n",
              "      <td>13.9</td>\n",
              "      <td>-0.3</td>\n",
              "      <td>0.79</td>\n",
              "      <td>Graduate</td>\n",
              "    </tr>\n",
              "    <tr>\n",
              "      <th>...</th>\n",
              "      <td>...</td>\n",
              "      <td>...</td>\n",
              "      <td>...</td>\n",
              "      <td>...</td>\n",
              "      <td>...</td>\n",
              "      <td>...</td>\n",
              "      <td>...</td>\n",
              "      <td>...</td>\n",
              "      <td>...</td>\n",
              "      <td>...</td>\n",
              "      <td>...</td>\n",
              "      <td>...</td>\n",
              "      <td>...</td>\n",
              "      <td>...</td>\n",
              "      <td>...</td>\n",
              "      <td>...</td>\n",
              "      <td>...</td>\n",
              "      <td>...</td>\n",
              "      <td>...</td>\n",
              "      <td>...</td>\n",
              "      <td>...</td>\n",
              "    </tr>\n",
              "    <tr>\n",
              "      <th>4419</th>\n",
              "      <td>1</td>\n",
              "      <td>1</td>\n",
              "      <td>6</td>\n",
              "      <td>9773</td>\n",
              "      <td>1</td>\n",
              "      <td>1</td>\n",
              "      <td>125.0</td>\n",
              "      <td>1</td>\n",
              "      <td>1</td>\n",
              "      <td>1</td>\n",
              "      <td>...</td>\n",
              "      <td>0</td>\n",
              "      <td>6</td>\n",
              "      <td>8</td>\n",
              "      <td>5</td>\n",
              "      <td>12.666667</td>\n",
              "      <td>0</td>\n",
              "      <td>15.5</td>\n",
              "      <td>2.8</td>\n",
              "      <td>-4.06</td>\n",
              "      <td>Graduate</td>\n",
              "    </tr>\n",
              "    <tr>\n",
              "      <th>4420</th>\n",
              "      <td>1</td>\n",
              "      <td>1</td>\n",
              "      <td>2</td>\n",
              "      <td>9773</td>\n",
              "      <td>1</td>\n",
              "      <td>1</td>\n",
              "      <td>120.0</td>\n",
              "      <td>105</td>\n",
              "      <td>1</td>\n",
              "      <td>1</td>\n",
              "      <td>...</td>\n",
              "      <td>0</td>\n",
              "      <td>6</td>\n",
              "      <td>6</td>\n",
              "      <td>2</td>\n",
              "      <td>11.000000</td>\n",
              "      <td>0</td>\n",
              "      <td>11.1</td>\n",
              "      <td>0.6</td>\n",
              "      <td>2.02</td>\n",
              "      <td>Dropout</td>\n",
              "    </tr>\n",
              "    <tr>\n",
              "      <th>4421</th>\n",
              "      <td>1</td>\n",
              "      <td>1</td>\n",
              "      <td>1</td>\n",
              "      <td>9500</td>\n",
              "      <td>1</td>\n",
              "      <td>1</td>\n",
              "      <td>154.0</td>\n",
              "      <td>1</td>\n",
              "      <td>37</td>\n",
              "      <td>37</td>\n",
              "      <td>...</td>\n",
              "      <td>0</td>\n",
              "      <td>8</td>\n",
              "      <td>9</td>\n",
              "      <td>1</td>\n",
              "      <td>13.500000</td>\n",
              "      <td>0</td>\n",
              "      <td>13.9</td>\n",
              "      <td>-0.3</td>\n",
              "      <td>0.79</td>\n",
              "      <td>Dropout</td>\n",
              "    </tr>\n",
              "    <tr>\n",
              "      <th>4422</th>\n",
              "      <td>1</td>\n",
              "      <td>1</td>\n",
              "      <td>1</td>\n",
              "      <td>9147</td>\n",
              "      <td>1</td>\n",
              "      <td>1</td>\n",
              "      <td>180.0</td>\n",
              "      <td>1</td>\n",
              "      <td>37</td>\n",
              "      <td>37</td>\n",
              "      <td>...</td>\n",
              "      <td>0</td>\n",
              "      <td>5</td>\n",
              "      <td>6</td>\n",
              "      <td>5</td>\n",
              "      <td>12.000000</td>\n",
              "      <td>0</td>\n",
              "      <td>9.4</td>\n",
              "      <td>-0.8</td>\n",
              "      <td>-3.12</td>\n",
              "      <td>Graduate</td>\n",
              "    </tr>\n",
              "    <tr>\n",
              "      <th>4423</th>\n",
              "      <td>1</td>\n",
              "      <td>10</td>\n",
              "      <td>1</td>\n",
              "      <td>9773</td>\n",
              "      <td>1</td>\n",
              "      <td>1</td>\n",
              "      <td>152.0</td>\n",
              "      <td>22</td>\n",
              "      <td>38</td>\n",
              "      <td>37</td>\n",
              "      <td>...</td>\n",
              "      <td>0</td>\n",
              "      <td>6</td>\n",
              "      <td>6</td>\n",
              "      <td>6</td>\n",
              "      <td>13.000000</td>\n",
              "      <td>0</td>\n",
              "      <td>12.7</td>\n",
              "      <td>3.7</td>\n",
              "      <td>-1.70</td>\n",
              "      <td>Graduate</td>\n",
              "    </tr>\n",
              "  </tbody>\n",
              "</table>\n",
              "<p>4424 rows × 37 columns</p>\n",
              "</div>\n",
              "    <div class=\"colab-df-buttons\">\n",
              "\n",
              "  <div class=\"colab-df-container\">\n",
              "    <button class=\"colab-df-convert\" onclick=\"convertToInteractive('df-f01dd8c7-fb47-491a-aa0b-4ddee4074aba')\"\n",
              "            title=\"Convert this dataframe to an interactive table.\"\n",
              "            style=\"display:none;\">\n",
              "\n",
              "  <svg xmlns=\"http://www.w3.org/2000/svg\" height=\"24px\" viewBox=\"0 -960 960 960\">\n",
              "    <path d=\"M120-120v-720h720v720H120Zm60-500h600v-160H180v160Zm220 220h160v-160H400v160Zm0 220h160v-160H400v160ZM180-400h160v-160H180v160Zm440 0h160v-160H620v160ZM180-180h160v-160H180v160Zm440 0h160v-160H620v160Z\"/>\n",
              "  </svg>\n",
              "    </button>\n",
              "\n",
              "  <style>\n",
              "    .colab-df-container {\n",
              "      display:flex;\n",
              "      gap: 12px;\n",
              "    }\n",
              "\n",
              "    .colab-df-convert {\n",
              "      background-color: #E8F0FE;\n",
              "      border: none;\n",
              "      border-radius: 50%;\n",
              "      cursor: pointer;\n",
              "      display: none;\n",
              "      fill: #1967D2;\n",
              "      height: 32px;\n",
              "      padding: 0 0 0 0;\n",
              "      width: 32px;\n",
              "    }\n",
              "\n",
              "    .colab-df-convert:hover {\n",
              "      background-color: #E2EBFA;\n",
              "      box-shadow: 0px 1px 2px rgba(60, 64, 67, 0.3), 0px 1px 3px 1px rgba(60, 64, 67, 0.15);\n",
              "      fill: #174EA6;\n",
              "    }\n",
              "\n",
              "    .colab-df-buttons div {\n",
              "      margin-bottom: 4px;\n",
              "    }\n",
              "\n",
              "    [theme=dark] .colab-df-convert {\n",
              "      background-color: #3B4455;\n",
              "      fill: #D2E3FC;\n",
              "    }\n",
              "\n",
              "    [theme=dark] .colab-df-convert:hover {\n",
              "      background-color: #434B5C;\n",
              "      box-shadow: 0px 1px 3px 1px rgba(0, 0, 0, 0.15);\n",
              "      filter: drop-shadow(0px 1px 2px rgba(0, 0, 0, 0.3));\n",
              "      fill: #FFFFFF;\n",
              "    }\n",
              "  </style>\n",
              "\n",
              "    <script>\n",
              "      const buttonEl =\n",
              "        document.querySelector('#df-f01dd8c7-fb47-491a-aa0b-4ddee4074aba button.colab-df-convert');\n",
              "      buttonEl.style.display =\n",
              "        google.colab.kernel.accessAllowed ? 'block' : 'none';\n",
              "\n",
              "      async function convertToInteractive(key) {\n",
              "        const element = document.querySelector('#df-f01dd8c7-fb47-491a-aa0b-4ddee4074aba');\n",
              "        const dataTable =\n",
              "          await google.colab.kernel.invokeFunction('convertToInteractive',\n",
              "                                                    [key], {});\n",
              "        if (!dataTable) return;\n",
              "\n",
              "        const docLinkHtml = 'Like what you see? Visit the ' +\n",
              "          '<a target=\"_blank\" href=https://colab.research.google.com/notebooks/data_table.ipynb>data table notebook</a>'\n",
              "          + ' to learn more about interactive tables.';\n",
              "        element.innerHTML = '';\n",
              "        dataTable['output_type'] = 'display_data';\n",
              "        await google.colab.output.renderOutput(dataTable, element);\n",
              "        const docLink = document.createElement('div');\n",
              "        docLink.innerHTML = docLinkHtml;\n",
              "        element.appendChild(docLink);\n",
              "      }\n",
              "    </script>\n",
              "  </div>\n",
              "\n",
              "\n",
              "    <div id=\"df-046392e2-229c-454a-b6bf-48ac7049f927\">\n",
              "      <button class=\"colab-df-quickchart\" onclick=\"quickchart('df-046392e2-229c-454a-b6bf-48ac7049f927')\"\n",
              "                title=\"Suggest charts\"\n",
              "                style=\"display:none;\">\n",
              "\n",
              "<svg xmlns=\"http://www.w3.org/2000/svg\" height=\"24px\"viewBox=\"0 0 24 24\"\n",
              "     width=\"24px\">\n",
              "    <g>\n",
              "        <path d=\"M19 3H5c-1.1 0-2 .9-2 2v14c0 1.1.9 2 2 2h14c1.1 0 2-.9 2-2V5c0-1.1-.9-2-2-2zM9 17H7v-7h2v7zm4 0h-2V7h2v10zm4 0h-2v-4h2v4z\"/>\n",
              "    </g>\n",
              "</svg>\n",
              "      </button>\n",
              "\n",
              "<style>\n",
              "  .colab-df-quickchart {\n",
              "      --bg-color: #E8F0FE;\n",
              "      --fill-color: #1967D2;\n",
              "      --hover-bg-color: #E2EBFA;\n",
              "      --hover-fill-color: #174EA6;\n",
              "      --disabled-fill-color: #AAA;\n",
              "      --disabled-bg-color: #DDD;\n",
              "  }\n",
              "\n",
              "  [theme=dark] .colab-df-quickchart {\n",
              "      --bg-color: #3B4455;\n",
              "      --fill-color: #D2E3FC;\n",
              "      --hover-bg-color: #434B5C;\n",
              "      --hover-fill-color: #FFFFFF;\n",
              "      --disabled-bg-color: #3B4455;\n",
              "      --disabled-fill-color: #666;\n",
              "  }\n",
              "\n",
              "  .colab-df-quickchart {\n",
              "    background-color: var(--bg-color);\n",
              "    border: none;\n",
              "    border-radius: 50%;\n",
              "    cursor: pointer;\n",
              "    display: none;\n",
              "    fill: var(--fill-color);\n",
              "    height: 32px;\n",
              "    padding: 0;\n",
              "    width: 32px;\n",
              "  }\n",
              "\n",
              "  .colab-df-quickchart:hover {\n",
              "    background-color: var(--hover-bg-color);\n",
              "    box-shadow: 0 1px 2px rgba(60, 64, 67, 0.3), 0 1px 3px 1px rgba(60, 64, 67, 0.15);\n",
              "    fill: var(--button-hover-fill-color);\n",
              "  }\n",
              "\n",
              "  .colab-df-quickchart-complete:disabled,\n",
              "  .colab-df-quickchart-complete:disabled:hover {\n",
              "    background-color: var(--disabled-bg-color);\n",
              "    fill: var(--disabled-fill-color);\n",
              "    box-shadow: none;\n",
              "  }\n",
              "\n",
              "  .colab-df-spinner {\n",
              "    border: 2px solid var(--fill-color);\n",
              "    border-color: transparent;\n",
              "    border-bottom-color: var(--fill-color);\n",
              "    animation:\n",
              "      spin 1s steps(1) infinite;\n",
              "  }\n",
              "\n",
              "  @keyframes spin {\n",
              "    0% {\n",
              "      border-color: transparent;\n",
              "      border-bottom-color: var(--fill-color);\n",
              "      border-left-color: var(--fill-color);\n",
              "    }\n",
              "    20% {\n",
              "      border-color: transparent;\n",
              "      border-left-color: var(--fill-color);\n",
              "      border-top-color: var(--fill-color);\n",
              "    }\n",
              "    30% {\n",
              "      border-color: transparent;\n",
              "      border-left-color: var(--fill-color);\n",
              "      border-top-color: var(--fill-color);\n",
              "      border-right-color: var(--fill-color);\n",
              "    }\n",
              "    40% {\n",
              "      border-color: transparent;\n",
              "      border-right-color: var(--fill-color);\n",
              "      border-top-color: var(--fill-color);\n",
              "    }\n",
              "    60% {\n",
              "      border-color: transparent;\n",
              "      border-right-color: var(--fill-color);\n",
              "    }\n",
              "    80% {\n",
              "      border-color: transparent;\n",
              "      border-right-color: var(--fill-color);\n",
              "      border-bottom-color: var(--fill-color);\n",
              "    }\n",
              "    90% {\n",
              "      border-color: transparent;\n",
              "      border-bottom-color: var(--fill-color);\n",
              "    }\n",
              "  }\n",
              "</style>\n",
              "\n",
              "      <script>\n",
              "        async function quickchart(key) {\n",
              "          const quickchartButtonEl =\n",
              "            document.querySelector('#' + key + ' button');\n",
              "          quickchartButtonEl.disabled = true;  // To prevent multiple clicks.\n",
              "          quickchartButtonEl.classList.add('colab-df-spinner');\n",
              "          try {\n",
              "            const charts = await google.colab.kernel.invokeFunction(\n",
              "                'suggestCharts', [key], {});\n",
              "          } catch (error) {\n",
              "            console.error('Error during call to suggestCharts:', error);\n",
              "          }\n",
              "          quickchartButtonEl.classList.remove('colab-df-spinner');\n",
              "          quickchartButtonEl.classList.add('colab-df-quickchart-complete');\n",
              "        }\n",
              "        (() => {\n",
              "          let quickchartButtonEl =\n",
              "            document.querySelector('#df-046392e2-229c-454a-b6bf-48ac7049f927 button');\n",
              "          quickchartButtonEl.style.display =\n",
              "            google.colab.kernel.accessAllowed ? 'block' : 'none';\n",
              "        })();\n",
              "      </script>\n",
              "    </div>\n",
              "\n",
              "  <div id=\"id_bc2106fe-679b-4aec-bb46-b5c09ce10ad1\">\n",
              "    <style>\n",
              "      .colab-df-generate {\n",
              "        background-color: #E8F0FE;\n",
              "        border: none;\n",
              "        border-radius: 50%;\n",
              "        cursor: pointer;\n",
              "        display: none;\n",
              "        fill: #1967D2;\n",
              "        height: 32px;\n",
              "        padding: 0 0 0 0;\n",
              "        width: 32px;\n",
              "      }\n",
              "\n",
              "      .colab-df-generate:hover {\n",
              "        background-color: #E2EBFA;\n",
              "        box-shadow: 0px 1px 2px rgba(60, 64, 67, 0.3), 0px 1px 3px 1px rgba(60, 64, 67, 0.15);\n",
              "        fill: #174EA6;\n",
              "      }\n",
              "\n",
              "      [theme=dark] .colab-df-generate {\n",
              "        background-color: #3B4455;\n",
              "        fill: #D2E3FC;\n",
              "      }\n",
              "\n",
              "      [theme=dark] .colab-df-generate:hover {\n",
              "        background-color: #434B5C;\n",
              "        box-shadow: 0px 1px 3px 1px rgba(0, 0, 0, 0.15);\n",
              "        filter: drop-shadow(0px 1px 2px rgba(0, 0, 0, 0.3));\n",
              "        fill: #FFFFFF;\n",
              "      }\n",
              "    </style>\n",
              "    <button class=\"colab-df-generate\" onclick=\"generateWithVariable('df')\"\n",
              "            title=\"Generate code using this dataframe.\"\n",
              "            style=\"display:none;\">\n",
              "\n",
              "  <svg xmlns=\"http://www.w3.org/2000/svg\" height=\"24px\"viewBox=\"0 0 24 24\"\n",
              "       width=\"24px\">\n",
              "    <path d=\"M7,19H8.4L18.45,9,17,7.55,7,17.6ZM5,21V16.75L18.45,3.32a2,2,0,0,1,2.83,0l1.4,1.43a1.91,1.91,0,0,1,.58,1.4,1.91,1.91,0,0,1-.58,1.4L9.25,21ZM18.45,9,17,7.55Zm-12,3A5.31,5.31,0,0,0,4.9,8.1,5.31,5.31,0,0,0,1,6.5,5.31,5.31,0,0,0,4.9,4.9,5.31,5.31,0,0,0,6.5,1,5.31,5.31,0,0,0,8.1,4.9,5.31,5.31,0,0,0,12,6.5,5.46,5.46,0,0,0,6.5,12Z\"/>\n",
              "  </svg>\n",
              "    </button>\n",
              "    <script>\n",
              "      (() => {\n",
              "      const buttonEl =\n",
              "        document.querySelector('#id_bc2106fe-679b-4aec-bb46-b5c09ce10ad1 button.colab-df-generate');\n",
              "      buttonEl.style.display =\n",
              "        google.colab.kernel.accessAllowed ? 'block' : 'none';\n",
              "\n",
              "      buttonEl.onclick = () => {\n",
              "        google.colab.notebook.generateWithVariable('df');\n",
              "      }\n",
              "      })();\n",
              "    </script>\n",
              "  </div>\n",
              "\n",
              "    </div>\n",
              "  </div>\n"
            ],
            "application/vnd.google.colaboratory.intrinsic+json": {
              "type": "dataframe",
              "variable_name": "df"
            }
          },
          "metadata": {},
          "execution_count": 4
        }
      ]
    },
    {
      "cell_type": "code",
      "source": [
        "target_counts = df[\"Target\"].value_counts()\n",
        "print(target_counts)"
      ],
      "metadata": {
        "id": "K7vgcoYH99GA",
        "colab": {
          "base_uri": "https://localhost:8080/"
        },
        "outputId": "a55834f9-55d9-485c-92ef-f358f310b210"
      },
      "execution_count": 5,
      "outputs": [
        {
          "output_type": "stream",
          "name": "stdout",
          "text": [
            "Target\n",
            "Graduate    2209\n",
            "Dropout     1421\n",
            "Enrolled     794\n",
            "Name: count, dtype: int64\n"
          ]
        }
      ]
    },
    {
      "cell_type": "markdown",
      "source": [
        "Combine the non-dropout categories"
      ],
      "metadata": {
        "id": "n3WdOYYGb5lA"
      }
    },
    {
      "cell_type": "code",
      "source": [
        "X = df.drop(columns=['Target'])\n",
        "y = df['Target']\n",
        "y = y.map({'Dropout': 0, 'Graduate': 1, 'Enrolled': 1}).astype(int)\n",
        "\n",
        "plt.figure(figsize=(4, 3))\n",
        "y.value_counts().sort_index().plot(kind='bar', color=['red', 'blue'])\n",
        "plt.title(\"Target Distribution\")\n",
        "plt.xlabel(\"Target\")\n",
        "plt.ylabel(\"Count\")\n",
        "plt.xticks(ticks=[0, 1], labels=[\"Dropout\", \"Graduate\"], rotation=0)\n",
        "plt.show()"
      ],
      "metadata": {
        "id": "LHbuFX_C-Zxu",
        "colab": {
          "base_uri": "https://localhost:8080/",
          "height": 333
        },
        "outputId": "817491d2-38a7-42fe-c26a-2c167c39e45e"
      },
      "execution_count": 6,
      "outputs": [
        {
          "output_type": "display_data",
          "data": {
            "text/plain": [
              "<Figure size 400x300 with 1 Axes>"
            ],
            "image/png": "[encoded data removed]"
          },
          "metadata": {}
        }
      ]
    },
    {
      "cell_type": "code",
      "source": [
        "X_train, X_test, y_train, y_test = train_test_split(\n",
        "    X, y, test_size=0.3, random_state=42, stratify=y\n",
        ")\n",
        "\n",
        "# Min-Max Scaling\n",
        "scaler = MinMaxScaler()\n",
        "X_train_scaled = scaler.fit_transform(X_train)\n",
        "X_test_scaled = scaler.transform(X_test)"
      ],
      "metadata": {
        "id": "Rvd9lmDVzT1r"
      },
      "execution_count": 76,
      "outputs": []
    },
    {
      "cell_type": "markdown",
      "source": [
        "# XGBoost"
      ],
      "metadata": {
        "id": "qWdRnOS2aB5v"
      }
    },
    {
      "cell_type": "markdown",
      "source": [
        "## Genetic Algorithm"
      ],
      "metadata": {
        "id": "_Eu8yThNa8yn"
      }
    },
    {
      "cell_type": "code",
      "source": [
        "# Define the fitness function\n",
        "def evaluate_xgb(individual):\n",
        "    params = {\n",
        "        'max_depth': int(individual[0]),\n",
        "        'learning_rate': max(individual[1], 0.001),\n",
        "        'n_estimators': int(individual[2]),\n",
        "        'min_child_weight': max(int(individual[3]), 1),\n",
        "        'gamma': max(individual[4], 0),\n",
        "        'subsample': max(min(individual[5], 1.0), 0.1),\n",
        "        'colsample_bytree': max(min(individual[6], 1.0), 0.1),\n",
        "    }\n",
        "\n",
        "    pipeline = Pipeline([\n",
        "        ('smote', SMOTE(random_state=42)),\n",
        "        ('model', XGBClassifier(**params, random_state=42))\n",
        "    ])\n",
        "\n",
        "    scores = cross_val_score(\n",
        "        pipeline,\n",
        "        X_train_scaled,\n",
        "        y_train,\n",
        "        cv=3,\n",
        "        scoring='accuracy'\n",
        "    )\n",
        "    return (np.mean(scores),)\n",
        "\n",
        "creator.create(\"FitnessMax\", base.Fitness, weights=(1.0,))\n",
        "creator.create(\"Individual\", list, fitness=creator.FitnessMax)\n",
        "\n",
        "toolbox = base.Toolbox()\n",
        "toolbox.register(\"attr_int\", random.randint, 3, 10)           # max_depth\n",
        "toolbox.register(\"attr_float\", random.uniform, 0.01, 0.3)     # learning_rate\n",
        "toolbox.register(\"attr_estimators\", random.randint, 50, 200)  # n_estimators\n",
        "toolbox.register(\"attr_child_weight\", random.randint, 1, 10)  # min_child_weight\n",
        "toolbox.register(\"attr_gamma\", random.uniform, 0, 0.5)        # gamma\n",
        "toolbox.register(\"attr_subsample\", random.uniform, 0.5, 1.0)  # subsample\n",
        "toolbox.register(\"attr_colsample\", random.uniform, 0.5, 1.0)  # colsample_bytree\n",
        "\n",
        "toolbox.register(\"individual\", tools.initCycle, creator.Individual,\n",
        "                 (toolbox.attr_int, toolbox.attr_float, toolbox.attr_estimators,\n",
        "                  toolbox.attr_child_weight, toolbox.attr_gamma,\n",
        "                  toolbox.attr_subsample, toolbox.attr_colsample), n=1)\n",
        "\n",
        "toolbox.register(\"population\", tools.initRepeat, list, toolbox.individual)\n",
        "toolbox.register(\"mate\", tools.cxBlend, alpha=0.5)\n",
        "toolbox.register(\"mutate\", tools.mutGaussian, mu=0, sigma=0.2, indpb=0.2)\n",
        "toolbox.register(\"select\", tools.selTournament, tournsize=3)\n",
        "toolbox.register(\"evaluate\", evaluate_xgb)"
      ],
      "metadata": {
        "id": "-tfjUu8IbCsf",
        "colab": {
          "base_uri": "https://localhost:8080/"
        },
        "outputId": "a8a009ad-6924-4338-bbb4-4e2fdb960d7d"
      },
      "execution_count": 77,
      "outputs": [
        {
          "output_type": "stream",
          "name": "stderr",
          "text": [
            "/usr/local/lib/python3.11/dist-packages/deap/creator.py:185: RuntimeWarning: A class named 'FitnessMax' has already been created and it will be overwritten. Consider deleting previous creation of that class or rename it.\n",
            "  warnings.warn(\"A class named '{0}' has already been created and it \"\n",
            "/usr/local/lib/python3.11/dist-packages/deap/creator.py:185: RuntimeWarning: A class named 'Individual' has already been created and it will be overwritten. Consider deleting previous creation of that class or rename it.\n",
            "  warnings.warn(\"A class named '{0}' has already been created and it \"\n"
          ]
        }
      ]
    },
    {
      "cell_type": "code",
      "source": [
        "population = toolbox.population(n=20)\n",
        "hof = tools.HallOfFame(3)  # Save top 3 individuals\n",
        "stats = tools.Statistics(lambda ind: ind.fitness.values)\n",
        "stats.register(\"avg\", np.mean)\n",
        "stats.register(\"min\", np.min)\n",
        "stats.register(\"max\", np.max)\n",
        "\n",
        "result, logbook = algorithms.eaSimple(\n",
        "    population, toolbox, cxpb=0.7, mutpb=0.2, ngen=10,\n",
        "    stats=stats, halloffame=hof, verbose=True\n",
        ")\n",
        "\n",
        "# Get best parameters\n",
        "best_params = {\n",
        "    'max_depth': int(hof[0][0]),\n",
        "    'learning_rate': hof[0][1],\n",
        "    'n_estimators': int(hof[0][2]),\n",
        "    'min_child_weight': int(hof[0][3]),\n",
        "    'gamma': hof[0][4],\n",
        "    'subsample': hof[0][5],\n",
        "    'colsample_bytree': hof[0][6],\n",
        "}"
      ],
      "metadata": {
        "id": "p0rKFzmnbDVX",
        "colab": {
          "base_uri": "https://localhost:8080/"
        },
        "outputId": "63387838-4390-4742-a904-696781fad90f"
      },
      "execution_count": 78,
      "outputs": [
        {
          "output_type": "stream",
          "name": "stdout",
          "text": [
            "gen\tnevals\tavg    \tmin     \tmax     \n",
            "0  \t20    \t0.86896\t0.858527\t0.876615\n",
            "1  \t18    \t0.87114\t0.859496\t0.87823 \n",
            "2  \t12    \t0.873353\t0.864341\t0.879522\n",
            "3  \t16    \t0.874128\t0.864664\t0.879522\n",
            "4  \t19    \t0.87647 \t0.872416\t0.879522\n",
            "5  \t17    \t0.876001\t0.857558\t0.879522\n",
            "6  \t17    \t0.877261\t0.873708\t0.879845\n",
            "7  \t15    \t0.876244\t0.865633\t0.879845\n",
            "8  \t17    \t0.878101\t0.874354\t0.879845\n",
            "9  \t14    \t0.876631\t0.864018\t0.880491\n",
            "10 \t14    \t0.876954\t0.864018\t0.879845\n"
          ]
        }
      ]
    },
    {
      "cell_type": "code",
      "source": [
        "print(\"Best Parameters:\", best_params)"
      ],
      "metadata": {
        "colab": {
          "base_uri": "https://localhost:8080/"
        },
        "id": "DbVkWfKYUJh2",
        "outputId": "b07884a8-d7fb-47d2-cad8-529ec0dde435"
      },
      "execution_count": 79,
      "outputs": [
        {
          "output_type": "stream",
          "name": "stdout",
          "text": [
            "Best Parameters: {'max_depth': 6, 'learning_rate': 0.049220955992711424, 'n_estimators': 150, 'min_child_weight': 1, 'gamma': 0.350459751166719, 'subsample': 0.6330286965303468, 'colsample_bytree': 0.5537086444753803}\n"
          ]
        }
      ]
    },
    {
      "cell_type": "code",
      "source": [
        "best_XGB = Pipeline([\n",
        "    ('smote', SMOTE(random_state=42)),\n",
        "    ('model', XGBClassifier(**best_params))\n",
        "])\n",
        "best_XGB.fit(X_train_scaled, y_train)\n",
        "print(classification_report(y_test, best_XGB.predict(X_test_scaled)))"
      ],
      "metadata": {
        "id": "HCuT3dWyErGQ",
        "colab": {
          "base_uri": "https://localhost:8080/"
        },
        "outputId": "f8ea05b4-4673-450c-8f95-c68c252fd23b"
      },
      "execution_count": 80,
      "outputs": [
        {
          "output_type": "stream",
          "name": "stdout",
          "text": [
            "              precision    recall  f1-score   support\n",
            "\n",
            "           0       0.82      0.76      0.79       427\n",
            "           1       0.89      0.92      0.91       901\n",
            "\n",
            "    accuracy                           0.87      1328\n",
            "   macro avg       0.86      0.84      0.85      1328\n",
            "weighted avg       0.87      0.87      0.87      1328\n",
            "\n"
          ]
        }
      ]
    },
    {
      "cell_type": "markdown",
      "source": [
        "## Store the best hyperparameter (so far) here"
      ],
      "metadata": {
        "id": "AP1sMYrsbAKf"
      }
    },
    {
      "cell_type": "code",
      "source": [
        "# Use this for the report\n",
        "\n",
        "params_xgb = {'max_depth': 7,\n",
        "              'learning_rate': 0.0624501362419474,\n",
        "              'n_estimators': 111,\n",
        "              'min_child_weight': 1,\n",
        "              'gamma': 0.4712833060708306,\n",
        "              'subsample': 0.9855205167609775,\n",
        "              'colsample_bytree': 0.49626690033940724}\n",
        "\n",
        "XGB_model = Pipeline([\n",
        "    ('smote', SMOTE(random_state=42)),\n",
        "    ('model', XGBClassifier(**params_xgb))\n",
        "])\n",
        "\n",
        "XGB_model.fit(X_train_scaled, y_train)\n",
        "\n",
        "xgb_y_pred_train = XGB_model.predict(X_train_scaled)\n",
        "xgb_y_pred = XGB_model.predict(X_test_scaled)\n",
        "accuracy_xgb = accuracy_score(y_test, xgb_y_pred)\n",
        "print (\"XGBoost - Accuracy (Test Set):\", accuracy_xgb)"
      ],
      "metadata": {
        "id": "3YXonf7PaBh_",
        "colab": {
          "base_uri": "https://localhost:8080/"
        },
        "outputId": "f5574737-32ff-424a-b9d2-83092b91e940"
      },
      "execution_count": 81,
      "outputs": [
        {
          "output_type": "stream",
          "name": "stdout",
          "text": [
            "XGBoost - Accuracy (Test Set): 0.8772590361445783\n"
          ]
        }
      ]
    },
    {
      "cell_type": "code",
      "source": [
        "print(classification_report(y_test, xgb_y_pred))"
      ],
      "metadata": {
        "colab": {
          "base_uri": "https://localhost:8080/"
        },
        "id": "liOMPnIFXti_",
        "outputId": "2459d80f-b8bf-44c7-83af-3b5747ef7ec4"
      },
      "execution_count": 82,
      "outputs": [
        {
          "output_type": "stream",
          "name": "stdout",
          "text": [
            "              precision    recall  f1-score   support\n",
            "\n",
            "           0       0.84      0.77      0.80       427\n",
            "           1       0.89      0.93      0.91       901\n",
            "\n",
            "    accuracy                           0.88      1328\n",
            "   macro avg       0.87      0.85      0.86      1328\n",
            "weighted avg       0.88      0.88      0.88      1328\n",
            "\n"
          ]
        }
      ]
    },
    {
      "cell_type": "markdown",
      "source": [
        "Compare the metrics from label '0' (Dropout) with the previous paper result below"
      ],
      "metadata": {
        "id": "22XYlodXseOx"
      }
    },
    {
      "cell_type": "markdown",
      "source": [
        "![Screenshot (1151).png](data:image/png;base64,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)"
      ],
      "metadata": {
        "id": "uW1fz2GOZ6yY"
      }
    },
    {
      "cell_type": "markdown",
      "source": [
        "## Try default parameter here in case the result from genetic algorithm is not well optimized"
      ],
      "metadata": {
        "id": "pKKLBpGQ0CJK"
      }
    },
    {
      "cell_type": "code",
      "source": [
        "XGB_model_default = Pipeline([\n",
        "    ('smote', SMOTE(random_state=42)),\n",
        "    ('model', XGBClassifier())\n",
        "])\n",
        "\n",
        "XGB_model_default.fit(X_train_scaled, y_train)\n",
        "\n",
        "xgb_y_pred_train = XGB_model_default.predict(X_train_scaled)\n",
        "xgb_y_pred = XGB_model_default.predict(X_test_scaled)\n",
        "accuracy_xgb = accuracy_score(y_test, xgb_y_pred)\n",
        "print (\"XGBoost - Accuracy (Test Set):\", accuracy_xgb)"
      ],
      "metadata": {
        "colab": {
          "base_uri": "https://localhost:8080/"
        },
        "id": "7NIPalXC0Cnd",
        "outputId": "fabfc9f0-83a2-472a-8ba1-c969378d696d"
      },
      "execution_count": 118,
      "outputs": [
        {
          "output_type": "stream",
          "name": "stdout",
          "text": [
            "XGBoost - Accuracy (Test Set): 0.8637048192771084\n"
          ]
        }
      ]
    },
    {
      "cell_type": "code",
      "source": [
        "print(classification_report(y_test, xgb_y_pred))"
      ],
      "metadata": {
        "colab": {
          "base_uri": "https://localhost:8080/"
        },
        "id": "m7PM2bz_0Kiy",
        "outputId": "2d1bede9-24cd-4bf8-9887-39c060c67555"
      },
      "execution_count": 119,
      "outputs": [
        {
          "output_type": "stream",
          "name": "stdout",
          "text": [
            "              precision    recall  f1-score   support\n",
            "\n",
            "           0       0.82      0.74      0.78       427\n",
            "           1       0.88      0.92      0.90       901\n",
            "\n",
            "    accuracy                           0.86      1328\n",
            "   macro avg       0.85      0.83      0.84      1328\n",
            "weighted avg       0.86      0.86      0.86      1328\n",
            "\n"
          ]
        }
      ]
    },
    {
      "cell_type": "markdown",
      "source": [
        "# Light GBM"
      ],
      "metadata": {
        "id": "UtKBZTvs4Yif"
      }
    },
    {
      "cell_type": "markdown",
      "source": [
        "## Genetic Algorithm"
      ],
      "metadata": {
        "id": "DIWJIYf9cwBB"
      }
    },
    {
      "cell_type": "code",
      "source": [
        "import warnings\n",
        "\n",
        "# Just reference FutureWarning directly—no import needed\n",
        "warnings.filterwarnings(\"ignore\", category=FutureWarning)\n",
        "\n",
        "# Define the fitness function\n",
        "def evaluate_lgbm(individual):\n",
        "    params = {\n",
        "        'max_depth': int(individual[0]),\n",
        "        'learning_rate': max(individual[1], 0.001),\n",
        "        'n_estimators': int(individual[2]),\n",
        "        'min_child_weight': int(individual[3]),\n",
        "        'num_leaves': 31,\n",
        "        'subsample': max(min(individual[5], 1.0), 0.1),\n",
        "        'colsample_bytree': max(min(individual[6], 1.0), 0.1),\n",
        "        'min_split_gain': max(individual[4], 0),\n",
        "        'min_sum_hessian_in_leaf': 1e-3,\n",
        "        'objective': 'binary',\n",
        "        'random_state': 42,\n",
        "        'verbosity': -1\n",
        "    }\n",
        "\n",
        "    pipeline = Pipeline([\n",
        "        ('smote', SMOTE(random_state=42)),\n",
        "        ('model', lgb.LGBMClassifier(**params))\n",
        "    ])\n",
        "\n",
        "    scores = cross_val_score(\n",
        "        pipeline,\n",
        "        X_train_scaled,\n",
        "        y_train,\n",
        "        cv=3,\n",
        "        scoring='accuracy'\n",
        "    )\n",
        "    return (np.mean(scores),)\n",
        "\n",
        "# Define fitness and individual representation\n",
        "creator.create(\"FitnessMax\", base.Fitness, weights=(1.0,))  # Maximize accuracy\n",
        "creator.create(\"Individual\", list, fitness=creator.FitnessMax)\n",
        "\n",
        "toolbox = base.Toolbox()\n",
        "\n",
        "toolbox.register(\"attr_max_depth\", random.randint, 3, 10)               # Integer: tree depth\n",
        "toolbox.register(\"attr_learning_rate\", random.uniform, 0.01, 0.3)       # Float: learning rate\n",
        "toolbox.register(\"attr_n_estimators\", random.randint, 50, 200)          # Integer: number of trees\n",
        "toolbox.register(\"attr_min_child_weight\", random.randint, 1, 10)        # Integer: minimum child weight\n",
        "toolbox.register(\"attr_split_gain\", random.uniform, 0, 0.5)             # Float (ignored by LightGBM but preserved for consistency)\n",
        "toolbox.register(\"attr_subsample\", random.uniform, 0.5, 1.0)            # Float: subsample rate\n",
        "toolbox.register(\"attr_colsample_bytree\", random.uniform, 0.5, 1.0)     # Float: column subsample rate\n",
        "toolbox.register(\"individual\", tools.initCycle, creator.Individual, (\n",
        "    toolbox.attr_max_depth,\n",
        "    toolbox.attr_learning_rate,\n",
        "    toolbox.attr_n_estimators,\n",
        "    toolbox.attr_min_child_weight,\n",
        "    toolbox.attr_split_gain,\n",
        "    toolbox.attr_subsample,\n",
        "    toolbox.attr_colsample_bytree,\n",
        "), n=1)\n",
        "\n",
        "toolbox.register(\"population\", tools.initRepeat, list, toolbox.individual)\n",
        "\n",
        "toolbox.register(\"mate\", tools.cxBlend, alpha=0.5)\n",
        "toolbox.register(\"mutate\", tools.mutGaussian, mu=0, sigma=0.2, indpb=0.2)\n",
        "toolbox.register(\"select\", tools.selTournament, tournsize=3)\n",
        "toolbox.register(\"evaluate\", evaluate_lgbm)"
      ],
      "metadata": {
        "colab": {
          "base_uri": "https://localhost:8080/"
        },
        "id": "ywld0KOXcsni",
        "outputId": "110f027a-8417-42d4-a31a-153490f0888b"
      },
      "execution_count": 98,
      "outputs": [
        {
          "output_type": "stream",
          "name": "stderr",
          "text": [
            "/usr/local/lib/python3.11/dist-packages/deap/creator.py:185: RuntimeWarning: A class named 'FitnessMax' has already been created and it will be overwritten. Consider deleting previous creation of that class or rename it.\n",
            "  warnings.warn(\"A class named '{0}' has already been created and it \"\n",
            "/usr/local/lib/python3.11/dist-packages/deap/creator.py:185: RuntimeWarning: A class named 'Individual' has already been created and it will be overwritten. Consider deleting previous creation of that class or rename it.\n",
            "  warnings.warn(\"A class named '{0}' has already been created and it \"\n"
          ]
        }
      ]
    },
    {
      "cell_type": "code",
      "source": [
        "population = toolbox.population(n=20)\n",
        "\n",
        "hof = tools.HallOfFame(3)\n",
        "\n",
        "stats = tools.Statistics(lambda ind: ind.fitness.values)\n",
        "stats.register(\"avg\", np.mean)\n",
        "stats.register(\"min\", np.min)\n",
        "stats.register(\"max\", np.max)\n",
        "\n",
        "result, logbook = algorithms.eaSimple(\n",
        "    population=population,\n",
        "    toolbox=toolbox,\n",
        "    cxpb=0.7,                # Crossover probability\n",
        "    mutpb=0.2,               # Mutation probability\n",
        "    ngen=10,                 # Number of generations\n",
        "    stats=stats,\n",
        "    halloffame=hof,\n",
        "    verbose=True\n",
        ")\n",
        "\n",
        "best_params = {\n",
        "    'max_depth': int(hof[0][0]),\n",
        "    'learning_rate': hof[0][1],\n",
        "    'n_estimators': int(hof[0][2]),\n",
        "    'min_child_weight': int(hof[0][3]),\n",
        "    'subsample': hof[0][5],\n",
        "    'colsample_bytree': hof[0][6],\n",
        "    'objective': 'binary',\n",
        "    'random_state': 42\n",
        "}"
      ],
      "metadata": {
        "colab": {
          "base_uri": "https://localhost:8080/"
        },
        "id": "U4wr-lXNc3_w",
        "outputId": "f4edd746-ce86-4e29-8c6f-8e0d8be40962"
      },
      "execution_count": 108,
      "outputs": [
        {
          "output_type": "stream",
          "name": "stdout",
          "text": [
            "gen\tnevals\tavg     \tmin     \tmax     \n",
            "0  \t20    \t0.871495\t0.853036\t0.876938\n",
            "1  \t19    \t0.872093\t0.854005\t0.876938\n",
            "2  \t9     \t0.873191\t0.868217\t0.876938\n",
            "3  \t13    \t0.87303 \t0.857558\t0.876938\n",
            "4  \t17    \t0.874903\t0.866925\t0.879522\n",
            "5  \t12    \t0.874952\t0.866925\t0.879522\n",
            "6  \t13    \t0.876696\t0.872416\t0.879522\n",
            "7  \t18    \t0.876114\t0.857558\t0.879522\n",
            "8  \t16    \t0.877374\t0.871447\t0.879522\n",
            "9  \t13    \t0.876938\t0.861757\t0.879845\n",
            "10 \t14    \t0.876857\t0.872739\t0.879522\n"
          ]
        }
      ]
    },
    {
      "cell_type": "code",
      "source": [
        "print(\"Best Parameters (LightGBM):\", best_params)"
      ],
      "metadata": {
        "colab": {
          "base_uri": "https://localhost:8080/"
        },
        "id": "IPqWM1zqUUa2",
        "outputId": "9694c8a8-6842-46ae-8781-c7dc7ce5057b"
      },
      "execution_count": 109,
      "outputs": [
        {
          "output_type": "stream",
          "name": "stdout",
          "text": [
            "Best Parameters (LightGBM): {'max_depth': 5, 'learning_rate': 0.12481463713443186, 'n_estimators': 231, 'min_child_weight': 0, 'subsample': 0.8819339400766035, 'colsample_bytree': 0.6975308622520509, 'objective': 'binary', 'random_state': 42}\n"
          ]
        }
      ]
    },
    {
      "cell_type": "code",
      "source": [
        "# Final model training using best params\n",
        "best_lgbm = Pipeline([\n",
        "    ('smote', SMOTE(random_state=42)),\n",
        "    ('model', lgb.LGBMClassifier(**best_params))\n",
        "])\n",
        "\n",
        "best_lgbm.fit(X_train_scaled, y_train)\n",
        "y_pred_lgbm = best_lgbm.predict(X_test_scaled)\n",
        "\n",
        "# Evaluation\n",
        "print(classification_report(y_test, y_pred_lgbm))"
      ],
      "metadata": {
        "colab": {
          "base_uri": "https://localhost:8080/"
        },
        "id": "hz3wxFv5d9fj",
        "outputId": "562e5fd0-5f32-4cc6-b735-b439caec5ce2"
      },
      "execution_count": 110,
      "outputs": [
        {
          "output_type": "stream",
          "name": "stdout",
          "text": [
            "              precision    recall  f1-score   support\n",
            "\n",
            "           0       0.82      0.74      0.78       427\n",
            "           1       0.88      0.93      0.90       901\n",
            "\n",
            "    accuracy                           0.86      1328\n",
            "   macro avg       0.85      0.83      0.84      1328\n",
            "weighted avg       0.86      0.86      0.86      1328\n",
            "\n"
          ]
        }
      ]
    },
    {
      "cell_type": "markdown",
      "source": [
        "## Store the best hyperparameter (so far) here"
      ],
      "metadata": {
        "id": "JhgQXUTheMdh"
      }
    },
    {
      "cell_type": "code",
      "source": [
        "params_lgbm = {'max_depth': 6,\n",
        "               'learning_rate': 0.07620145039140708,\n",
        "               'n_estimators': 135,\n",
        "               'min_child_weight': 0,\n",
        "               'subsample': 0.7003863980374111,\n",
        "               'colsample_bytree': 0.517307842007566,\n",
        "               'objective': 'binary',\n",
        "               'random_state': 42}\n",
        "\n",
        "lgbm_model = Pipeline([\n",
        "    ('smote', SMOTE(random_state=42)),\n",
        "    ('model', lgb.LGBMClassifier(**params_lgbm))\n",
        "])\n",
        "\n",
        "lgbm_model.fit(X_train_scaled, y_train)\n",
        "\n",
        "y_pred_lgbm = lgbm_model.predict(X_test_scaled)\n",
        "\n",
        "accuracy_lgbm = accuracy_score(y_pred_lgbm, y_test)\n",
        "print (\"LightGBM - Accuracy (Test Set):\", accuracy_lgbm)"
      ],
      "metadata": {
        "id": "r5B1aFKjaVw7",
        "colab": {
          "base_uri": "https://localhost:8080/"
        },
        "outputId": "bf1e4b21-cc5a-487d-f88f-8da5d5710397"
      },
      "execution_count": 111,
      "outputs": [
        {
          "output_type": "stream",
          "name": "stdout",
          "text": [
            "LightGBM - Accuracy (Test Set): 0.8719879518072289\n"
          ]
        }
      ]
    },
    {
      "cell_type": "code",
      "source": [
        "print(classification_report(y_test, y_pred_lgbm))"
      ],
      "metadata": {
        "id": "0lakhe6J5ZBW",
        "colab": {
          "base_uri": "https://localhost:8080/"
        },
        "outputId": "38b90734-5f3e-47b2-8804-a0993c00a7cd"
      },
      "execution_count": 112,
      "outputs": [
        {
          "output_type": "stream",
          "name": "stdout",
          "text": [
            "              precision    recall  f1-score   support\n",
            "\n",
            "           0       0.84      0.74      0.79       427\n",
            "           1       0.89      0.93      0.91       901\n",
            "\n",
            "    accuracy                           0.87      1328\n",
            "   macro avg       0.86      0.84      0.85      1328\n",
            "weighted avg       0.87      0.87      0.87      1328\n",
            "\n"
          ]
        }
      ]
    },
    {
      "cell_type": "markdown",
      "source": [
        "Compare the metrics from label '0' (Dropout) with the previous paper result below"
      ],
      "metadata": {
        "id": "mwkLhtEsscFi"
      }
    },
    {
      "cell_type": "markdown",
      "source": [
        "![Screenshot (1151).png](data:image/png;base64,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)"
      ],
      "metadata": {
        "id": "6TCCbZRuQgYq"
      }
    },
    {
      "cell_type": "markdown",
      "source": [
        "## Try default parameter here in case the result from genetic algorithm is not well optimized"
      ],
      "metadata": {
        "id": "TEJVVkI1zIEr"
      }
    },
    {
      "cell_type": "code",
      "source": [
        "lgbm_model_default = Pipeline([\n",
        "    ('smote', SMOTE(random_state=42)),\n",
        "    ('model', lgb.LGBMClassifier(\n",
        "        objective='binary',\n",
        "        random_state=42,\n",
        "        verbose=0))\n",
        "])\n",
        "\n",
        "lgbm_model_default.fit(X_train_scaled, y_train)\n",
        "\n",
        "y_pred_lgbm = lgbm_model_default.predict(X_test_scaled)\n",
        "\n",
        "accuracy_lgbm = accuracy_score(y_pred_lgbm, y_test)\n",
        "print (\"LightGBM - Accuracy (Test Set):\", accuracy_lgbm)"
      ],
      "metadata": {
        "colab": {
          "base_uri": "https://localhost:8080/"
        },
        "id": "Yb3NM2eXzY8k",
        "outputId": "080d2f34-fa75-462c-c71c-3c8fd2d3248c"
      },
      "execution_count": 113,
      "outputs": [
        {
          "output_type": "stream",
          "name": "stdout",
          "text": [
            "LightGBM - Accuracy (Test Set): 0.8780120481927711\n"
          ]
        }
      ]
    },
    {
      "cell_type": "code",
      "source": [
        "print(classification_report(y_test, y_pred_lgbm))"
      ],
      "metadata": {
        "colab": {
          "base_uri": "https://localhost:8080/"
        },
        "id": "ODdFfT92zjha",
        "outputId": "8c614f8e-6ea4-4430-a1d5-c7114f39342c"
      },
      "execution_count": 114,
      "outputs": [
        {
          "output_type": "stream",
          "name": "stdout",
          "text": [
            "              precision    recall  f1-score   support\n",
            "\n",
            "           0       0.84      0.77      0.80       427\n",
            "           1       0.89      0.93      0.91       901\n",
            "\n",
            "    accuracy                           0.88      1328\n",
            "   macro avg       0.87      0.85      0.86      1328\n",
            "weighted avg       0.88      0.88      0.88      1328\n",
            "\n"
          ]
        }
      ]
    },
    {
      "cell_type": "markdown",
      "source": [
        "# Catboost"
      ],
      "metadata": {
        "id": "gt0Y0F7cFhsf"
      }
    },
    {
      "cell_type": "markdown",
      "source": [
        "## Genetic Algorithm"
      ],
      "metadata": {
        "id": "4J6bD-Z7Z7xv"
      }
    },
    {
      "cell_type": "code",
      "source": [
        "# Define the fitness function\n",
        "def evaluate_catboost(individual):\n",
        "    params = {\n",
        "        'depth': int(individual[0]),\n",
        "        'learning_rate': max(individual[1], 0.001),\n",
        "        'iterations': int(individual[2]),\n",
        "        'l2_leaf_reg': max(individual[3], 1),\n",
        "        'bagging_temperature': max(individual[4], 0),\n",
        "        'random_strength': max(individual[5], 1e-9),\n",
        "        'loss_function': 'Logloss',\n",
        "        'random_state': 42,\n",
        "        'verbose': 0\n",
        "    }\n",
        "\n",
        "    pipeline = Pipeline([\n",
        "        ('smote', SMOTE(random_state=42)),\n",
        "        ('model', CatBoostClassifier(**params))\n",
        "    ])\n",
        "\n",
        "    scores = cross_val_score(\n",
        "        pipeline,\n",
        "        X_train_scaled,\n",
        "        y_train,\n",
        "        cv=3,\n",
        "        scoring='accuracy'\n",
        "    )\n",
        "    return (np.mean(scores),)\n",
        "\n",
        "creator.create(\"FitnessMax\", base.Fitness, weights=(1.0,))\n",
        "creator.create(\"Individual\", list, fitness=creator.FitnessMax)\n",
        "\n",
        "toolbox = base.Toolbox()\n",
        "toolbox.register(\"attr_depth\", random.randint, 3, 10)\n",
        "toolbox.register(\"attr_learning_rate\", random.uniform, 0.01, 0.3)\n",
        "toolbox.register(\"attr_iterations\", random.randint, 50, 200)\n",
        "toolbox.register(\"attr_l2_leaf_reg\", random.uniform, 1, 10)\n",
        "toolbox.register(\"attr_bagging_temp\", random.uniform, 0, 1)\n",
        "toolbox.register(\"attr_random_strength\", random.uniform, 1e-9, 1.0)\n",
        "\n",
        "toolbox.register(\"individual\", tools.initCycle, creator.Individual, (\n",
        "    toolbox.attr_depth,\n",
        "    toolbox.attr_learning_rate,\n",
        "    toolbox.attr_iterations,\n",
        "    toolbox.attr_l2_leaf_reg,\n",
        "    toolbox.attr_bagging_temp,\n",
        "    toolbox.attr_random_strength\n",
        "), n=1)\n",
        "\n",
        "toolbox.register(\"population\", tools.initRepeat, list, toolbox.individual)\n",
        "toolbox.register(\"mate\", tools.cxBlend, alpha=0.5)\n",
        "toolbox.register(\"mutate\", tools.mutGaussian, mu=0, sigma=0.2, indpb=0.2)\n",
        "toolbox.register(\"select\", tools.selTournament, tournsize=3)\n",
        "toolbox.register(\"evaluate\", evaluate_catboost)"
      ],
      "metadata": {
        "colab": {
          "base_uri": "https://localhost:8080/"
        },
        "id": "m9loiBX5TuKm",
        "outputId": "a04ef2b3-861e-42ce-80a1-658e0ca49e7b"
      },
      "execution_count": 92,
      "outputs": [
        {
          "output_type": "stream",
          "name": "stderr",
          "text": [
            "/usr/local/lib/python3.11/dist-packages/deap/creator.py:185: RuntimeWarning: A class named 'FitnessMax' has already been created and it will be overwritten. Consider deleting previous creation of that class or rename it.\n",
            "  warnings.warn(\"A class named '{0}' has already been created and it \"\n",
            "/usr/local/lib/python3.11/dist-packages/deap/creator.py:185: RuntimeWarning: A class named 'Individual' has already been created and it will be overwritten. Consider deleting previous creation of that class or rename it.\n",
            "  warnings.warn(\"A class named '{0}' has already been created and it \"\n"
          ]
        }
      ]
    },
    {
      "cell_type": "code",
      "source": [
        "population = toolbox.population(n=20)\n",
        "hof = tools.HallOfFame(3)  # Save top 3 individuals\n",
        "stats = tools.Statistics(lambda ind: ind.fitness.values)\n",
        "stats.register(\"avg\", np.mean)\n",
        "stats.register(\"min\", np.min)\n",
        "stats.register(\"max\", np.max)\n",
        "\n",
        "result, logbook = algorithms.eaSimple(\n",
        "    population, toolbox,\n",
        "    cxpb=0.7, mutpb=0.2,\n",
        "    ngen=10,\n",
        "    stats=stats,\n",
        "    halloffame=hof,\n",
        "    verbose=True\n",
        ")\n",
        "\n",
        "# Get best parameters\n",
        "best_params = {\n",
        "    'depth': int(hof[0][0]),\n",
        "    'learning_rate': hof[0][1],\n",
        "    'iterations': int(hof[0][2]),\n",
        "    'l2_leaf_reg': hof[0][3],\n",
        "    'bagging_temperature': hof[0][4],\n",
        "    'random_strength': hof[0][5],\n",
        "    'loss_function': 'Logloss',\n",
        "    'random_state': 42,\n",
        "    'verbose': 0\n",
        "}"
      ],
      "metadata": {
        "colab": {
          "base_uri": "https://localhost:8080/"
        },
        "id": "d6_5VHdxTu5O",
        "outputId": "e574c251-eefc-426b-ac5b-5c3cf9324e63"
      },
      "execution_count": 93,
      "outputs": [
        {
          "output_type": "stream",
          "name": "stdout",
          "text": [
            "gen\tnevals\tavg     \tmin     \tmax     \n",
            "0  \t20    \t0.866877\t0.853359\t0.874031\n",
            "1  \t15    \t0.867975\t0.839793\t0.872416\n",
            "2  \t12    \t0.870058\t0.860142\t0.873062\n",
            "3  \t17    \t0.871027\t0.865633\t0.873708\n",
            "4  \t10    \t0.871399\t0.867571\t0.873708\n",
            "5  \t18    \t0.8703  \t0.836563\t0.875323\n",
            "6  \t16    \t0.870284\t0.856589\t0.874354\n",
            "7  \t13    \t0.871108\t0.864018\t0.874354\n",
            "8  \t19    \t0.870882\t0.864664\t0.874354\n",
            "9  \t17    \t0.870914\t0.86531 \t0.874354\n",
            "10 \t18    \t0.869767\t0.865633\t0.874354\n"
          ]
        }
      ]
    },
    {
      "cell_type": "code",
      "source": [
        "print(\"Best Parameters:\", best_params)"
      ],
      "metadata": {
        "colab": {
          "base_uri": "https://localhost:8080/"
        },
        "id": "QElq0oY6VHkO",
        "outputId": "75620a56-d4ce-40d5-a19e-05a7c38db5b2"
      },
      "execution_count": 94,
      "outputs": [
        {
          "output_type": "stream",
          "name": "stdout",
          "text": [
            "Best Parameters: {'depth': 4, 'learning_rate': 0.23069327139658863, 'iterations': 128, 'l2_leaf_reg': 5.894110329124391, 'bagging_temperature': 0.7516619837235651, 'random_strength': 0.7140430042054948, 'loss_function': 'Logloss', 'random_state': 42, 'verbose': 0}\n"
          ]
        }
      ]
    },
    {
      "cell_type": "code",
      "source": [
        "best_model = Pipeline([\n",
        "    ('smote', SMOTE(random_state=42)),\n",
        "    ('model', CatBoostClassifier(**best_params))\n",
        "])\n",
        "best_model.fit(X_train_scaled, y_train)\n",
        "print(classification_report(y_test, best_model.predict(X_test_scaled)))"
      ],
      "metadata": {
        "colab": {
          "base_uri": "https://localhost:8080/"
        },
        "id": "6YLD8qo7T6Bu",
        "outputId": "22c7725d-2432-48c5-c007-bfe087ac9b03"
      },
      "execution_count": 95,
      "outputs": [
        {
          "output_type": "stream",
          "name": "stdout",
          "text": [
            "              precision    recall  f1-score   support\n",
            "\n",
            "           0       0.83      0.76      0.79       427\n",
            "           1       0.89      0.93      0.91       901\n",
            "\n",
            "    accuracy                           0.87      1328\n",
            "   macro avg       0.86      0.84      0.85      1328\n",
            "weighted avg       0.87      0.87      0.87      1328\n",
            "\n"
          ]
        }
      ]
    },
    {
      "cell_type": "markdown",
      "source": [
        "## Store the best hyperparameter (so far) here"
      ],
      "metadata": {
        "id": "XQrG6JOfYQgm"
      }
    },
    {
      "cell_type": "code",
      "source": [
        "# Use this for the report\n",
        "\n",
        "params_catb = {'depth': 8,\n",
        "               'learning_rate': 0.08948885931652993,\n",
        "               'iterations': 178,\n",
        "               'l2_leaf_reg': 9.289183283112662,\n",
        "               'bagging_temperature': 0.4350362114521534,\n",
        "               'random_strength': 0.48212689688891097,\n",
        "               'loss_function': 'Logloss',\n",
        "               'random_state': 42,\n",
        "               'verbose': 0}\n",
        "\n",
        "cat_model = Pipeline([\n",
        "    ('smote', SMOTE(random_state=42)),\n",
        "    ('model', CatBoostClassifier(**params_catb))\n",
        "])\n",
        "\n",
        "cat_model.fit(X_train_scaled, y_train)\n",
        "\n",
        "cat_y_pred_train = cat_model.predict(X_train_scaled)\n",
        "cat_y_pred = cat_model.predict(X_test_scaled)\n",
        "\n",
        "accuracy_cat = accuracy_score(y_test, cat_y_pred)\n",
        "print(\"CatBoost - Accuracy (Test Set):\", accuracy_cat)"
      ],
      "metadata": {
        "colab": {
          "base_uri": "https://localhost:8080/"
        },
        "id": "dsMb0YLaT_1F",
        "outputId": "6ed77ceb-5bd7-425b-99c2-9800f005a47a"
      },
      "execution_count": 96,
      "outputs": [
        {
          "output_type": "stream",
          "name": "stdout",
          "text": [
            "CatBoost - Accuracy (Test Set): 0.8727409638554217\n"
          ]
        }
      ]
    },
    {
      "cell_type": "code",
      "source": [
        "print(classification_report(y_test, cat_y_pred))"
      ],
      "metadata": {
        "colab": {
          "base_uri": "https://localhost:8080/"
        },
        "id": "h19nCymsZMwX",
        "outputId": "aa01c439-f16e-4234-fdee-bb767f95c701"
      },
      "execution_count": 97,
      "outputs": [
        {
          "output_type": "stream",
          "name": "stdout",
          "text": [
            "              precision    recall  f1-score   support\n",
            "\n",
            "           0       0.83      0.76      0.79       427\n",
            "           1       0.89      0.93      0.91       901\n",
            "\n",
            "    accuracy                           0.87      1328\n",
            "   macro avg       0.86      0.84      0.85      1328\n",
            "weighted avg       0.87      0.87      0.87      1328\n",
            "\n"
          ]
        }
      ]
    },
    {
      "cell_type": "markdown",
      "source": [
        "Compare the metrics from label '0' (Dropout) with the previous paper result below"
      ],
      "metadata": {
        "id": "tBwTmXZDsTKh"
      }
    },
    {
      "cell_type": "markdown",
      "source": [
        "![Screenshot (1151).png](data:image/png;base64,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)"
      ],
      "metadata": {
        "id": "OkuA4HwgQiAX"
      }
    },
    {
      "cell_type": "markdown",
      "source": [
        "## Try default parameter here in case the result from genetic algorithm is not well optimized"
      ],
      "metadata": {
        "id": "aLzBFkwPzqgz"
      }
    },
    {
      "cell_type": "code",
      "source": [
        "cat_model_default = Pipeline([\n",
        "    ('smote', SMOTE(random_state=42)),\n",
        "    ('model', CatBoostClassifier(\n",
        "        loss_function='Logloss',\n",
        "        random_state=42,\n",
        "        verbose=100,\n",
        "        early_stopping_rounds=50))\n",
        "])\n",
        "\n",
        "cat_model_default.fit(X_train_scaled, y_train)\n",
        "\n",
        "cat_y_pred_train = cat_model_default.predict(X_train_scaled)\n",
        "cat_y_pred = cat_model_default.predict(X_test_scaled)\n",
        "\n",
        "accuracy_cat = accuracy_score(y_test, cat_y_pred)\n",
        "print(\"CatBoost - Accuracy (Test Set):\", accuracy_cat)"
      ],
      "metadata": {
        "colab": {
          "base_uri": "https://localhost:8080/"
        },
        "id": "ChAU8UDwzrEL",
        "outputId": "f239b99d-4124-4c06-eb57-784fbf1c251f"
      },
      "execution_count": 115,
      "outputs": [
        {
          "output_type": "stream",
          "name": "stdout",
          "text": [
            "Learning rate set to 0.019021\n",
            "0:\tlearn: 0.6783969\ttotal: 10.5ms\tremaining: 10.4s\n",
            "100:\tlearn: 0.3123473\ttotal: 835ms\tremaining: 7.43s\n",
            "200:\tlearn: 0.2570448\ttotal: 1.68s\tremaining: 6.69s\n",
            "300:\tlearn: 0.2241680\ttotal: 2.53s\tremaining: 5.87s\n",
            "400:\tlearn: 0.1994027\ttotal: 3.38s\tremaining: 5.04s\n",
            "500:\tlearn: 0.1773790\ttotal: 4.25s\tremaining: 4.23s\n",
            "600:\tlearn: 0.1586285\ttotal: 6.27s\tremaining: 4.16s\n",
            "700:\tlearn: 0.1430240\ttotal: 7.59s\tremaining: 3.24s\n",
            "800:\tlearn: 0.1297176\ttotal: 8.45s\tremaining: 2.1s\n",
            "900:\tlearn: 0.1180837\ttotal: 9.3s\tremaining: 1.02s\n",
            "999:\tlearn: 0.1080136\ttotal: 10.1s\tremaining: 0us\n",
            "CatBoost - Accuracy (Test Set): 0.8757530120481928\n"
          ]
        }
      ]
    },
    {
      "cell_type": "code",
      "source": [
        "print(classification_report(y_test, cat_y_pred))"
      ],
      "metadata": {
        "colab": {
          "base_uri": "https://localhost:8080/"
        },
        "id": "V9PyNjCYz3ki",
        "outputId": "073a3536-4013-48e7-d0c0-3a3f5fc55b98"
      },
      "execution_count": 117,
      "outputs": [
        {
          "output_type": "stream",
          "name": "stdout",
          "text": [
            "              precision    recall  f1-score   support\n",
            "\n",
            "           0       0.84      0.76      0.80       427\n",
            "           1       0.89      0.93      0.91       901\n",
            "\n",
            "    accuracy                           0.88      1328\n",
            "   macro avg       0.86      0.85      0.85      1328\n",
            "weighted avg       0.87      0.88      0.87      1328\n",
            "\n"
          ]
        }
      ]
    }
  ]
}